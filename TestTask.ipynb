{
 "cells": [
  {
   "cell_type": "code",
   "execution_count": 49,
   "metadata": {},
   "outputs": [],
   "source": [
    "import pandas as pd\n",
    "import matplotlib.pyplot as plt\n",
    "import seaborn as sns\n",
    "import numpy as np\n",
    "from sklearn.preprocessing import LabelEncoder\n",
    "\n",
    "%matplotlib inline"
   ]
  },
  {
   "cell_type": "markdown",
   "metadata": {},
   "source": [
    "Количество столбцов равно 15\n",
    "\n",
    "Проверим это и удалим строки, где количество столбцов меньше"
   ]
  },
  {
   "cell_type": "code",
   "execution_count": 50,
   "metadata": {},
   "outputs": [
    {
     "name": "stdout",
     "output_type": "stream",
     "text": [
      "Удалено строк:  3\n"
     ]
    }
   ],
   "source": [
    "sum = 0\n",
    "with open('test_task_ml/data.txt', 'r') as outfile, open('new_data.txt', 'w') as infile:\n",
    "    for line in outfile:\n",
    "        line_length = len(line.split(','))\n",
    "        if  line_length < 15: \n",
    "            sum += 1\n",
    "            continue\n",
    "        elif line_length == 15:\n",
    "            infile.write(line)\n",
    "print('Удалено строк: ', sum)"
   ]
  },
  {
   "cell_type": "code",
   "execution_count": 51,
   "metadata": {},
   "outputs": [],
   "source": [
    "column_names = [\n",
    "    'age',\n",
    "    'workclass',\n",
    "    'final_weight',\n",
    "    'education',\n",
    "    'education-num',\n",
    "    'marital-status',\n",
    "    'occupation',\n",
    "    'relationship',\n",
    "    'race',\n",
    "    'sex',\n",
    "    'cap-gain',\n",
    "    'cap-loss',\n",
    "    'hours-per-week',\n",
    "    'native-country',\n",
    "    'comparison' # условие того, получает ли человек больше или меньше указанной суммы  \n",
    "    \n",
    "]"
   ]
  },
  {
   "cell_type": "code",
   "execution_count": 52,
   "metadata": {},
   "outputs": [],
   "source": [
    "dtypes = {\n",
    "    'age': 'int32',\n",
    "    'workclass': 'category',\n",
    "    'final_weight': 'float64',\n",
    "    'education': 'category',\n",
    "    'education-num': 'int32',\n",
    "    'marital-status': 'category',\n",
    "    'occupation': 'category',\n",
    "    'relationship': 'category',\n",
    "    'race': 'category',\n",
    "    'sex': 'category',\n",
    "    'cap-gain': 'float64',\n",
    "    'cap-loss': 'float64',\n",
    "    'hours-per-week': 'int32',\n",
    "    'native-country': 'category',\n",
    "    'comparison': 'category'\n",
    "}"
   ]
  },
  {
   "cell_type": "code",
   "execution_count": 53,
   "metadata": {},
   "outputs": [],
   "source": [
    "train_data = pd.read_csv('new_data.txt', names=column_names, dtype=dtypes)"
   ]
  },
  {
   "cell_type": "code",
   "execution_count": 54,
   "metadata": {},
   "outputs": [
    {
     "data": {
      "text/html": [
       "<div>\n",
       "<style scoped>\n",
       "    .dataframe tbody tr th:only-of-type {\n",
       "        vertical-align: middle;\n",
       "    }\n",
       "\n",
       "    .dataframe tbody tr th {\n",
       "        vertical-align: top;\n",
       "    }\n",
       "\n",
       "    .dataframe thead th {\n",
       "        text-align: right;\n",
       "    }\n",
       "</style>\n",
       "<table border=\"1\" class=\"dataframe\">\n",
       "  <thead>\n",
       "    <tr style=\"text-align: right;\">\n",
       "      <th></th>\n",
       "      <th>age</th>\n",
       "      <th>workclass</th>\n",
       "      <th>final_weight</th>\n",
       "      <th>education</th>\n",
       "      <th>education-num</th>\n",
       "      <th>marital-status</th>\n",
       "      <th>occupation</th>\n",
       "      <th>relationship</th>\n",
       "      <th>race</th>\n",
       "      <th>sex</th>\n",
       "      <th>cap-gain</th>\n",
       "      <th>cap-loss</th>\n",
       "      <th>hours-per-week</th>\n",
       "      <th>native-country</th>\n",
       "      <th>comparison</th>\n",
       "    </tr>\n",
       "  </thead>\n",
       "  <tbody>\n",
       "    <tr>\n",
       "      <th>0</th>\n",
       "      <td>39</td>\n",
       "      <td>State-gov</td>\n",
       "      <td>77516.0</td>\n",
       "      <td>Bachelors</td>\n",
       "      <td>13</td>\n",
       "      <td>Never-married</td>\n",
       "      <td>Adm-clerical</td>\n",
       "      <td>Not-in-family</td>\n",
       "      <td>White</td>\n",
       "      <td>Male</td>\n",
       "      <td>2174.0</td>\n",
       "      <td>0.0</td>\n",
       "      <td>40</td>\n",
       "      <td>United-States</td>\n",
       "      <td>&lt;=N</td>\n",
       "    </tr>\n",
       "    <tr>\n",
       "      <th>1</th>\n",
       "      <td>50</td>\n",
       "      <td>Self-emp-not-inc</td>\n",
       "      <td>83311.0</td>\n",
       "      <td>Bachelors</td>\n",
       "      <td>13</td>\n",
       "      <td>Married-civ-spouse</td>\n",
       "      <td>Exec-managerial</td>\n",
       "      <td>Husband</td>\n",
       "      <td>White</td>\n",
       "      <td>Male</td>\n",
       "      <td>0.0</td>\n",
       "      <td>0.0</td>\n",
       "      <td>13</td>\n",
       "      <td>United-States</td>\n",
       "      <td>&lt;=N</td>\n",
       "    </tr>\n",
       "    <tr>\n",
       "      <th>2</th>\n",
       "      <td>38</td>\n",
       "      <td>Private</td>\n",
       "      <td>215646.0</td>\n",
       "      <td>HS-grad</td>\n",
       "      <td>9</td>\n",
       "      <td>Divorced</td>\n",
       "      <td>Handlers-cleaners</td>\n",
       "      <td>Not-in-family</td>\n",
       "      <td>White</td>\n",
       "      <td>Male</td>\n",
       "      <td>0.0</td>\n",
       "      <td>0.0</td>\n",
       "      <td>40</td>\n",
       "      <td>United-States</td>\n",
       "      <td>&lt;=N</td>\n",
       "    </tr>\n",
       "    <tr>\n",
       "      <th>3</th>\n",
       "      <td>53</td>\n",
       "      <td>Private</td>\n",
       "      <td>234721.0</td>\n",
       "      <td>11th</td>\n",
       "      <td>7</td>\n",
       "      <td>Married-civ-spouse</td>\n",
       "      <td>Handlers-cleaners</td>\n",
       "      <td>Husband</td>\n",
       "      <td>Black</td>\n",
       "      <td>Male</td>\n",
       "      <td>0.0</td>\n",
       "      <td>0.0</td>\n",
       "      <td>40</td>\n",
       "      <td>United-States</td>\n",
       "      <td>&lt;=N</td>\n",
       "    </tr>\n",
       "    <tr>\n",
       "      <th>4</th>\n",
       "      <td>28</td>\n",
       "      <td>Private</td>\n",
       "      <td>338409.0</td>\n",
       "      <td>Bachelors</td>\n",
       "      <td>13</td>\n",
       "      <td>Married-civ-spouse</td>\n",
       "      <td>Prof-specialty</td>\n",
       "      <td>Wife</td>\n",
       "      <td>Black</td>\n",
       "      <td>Female</td>\n",
       "      <td>0.0</td>\n",
       "      <td>0.0</td>\n",
       "      <td>40</td>\n",
       "      <td>Cuba</td>\n",
       "      <td>&lt;=N</td>\n",
       "    </tr>\n",
       "  </tbody>\n",
       "</table>\n",
       "</div>"
      ],
      "text/plain": [
       "   age          workclass  final_weight   education  education-num  \\\n",
       "0   39          State-gov       77516.0   Bachelors             13   \n",
       "1   50   Self-emp-not-inc       83311.0   Bachelors             13   \n",
       "2   38            Private      215646.0     HS-grad              9   \n",
       "3   53            Private      234721.0        11th              7   \n",
       "4   28            Private      338409.0   Bachelors             13   \n",
       "\n",
       "        marital-status          occupation    relationship    race      sex  \\\n",
       "0        Never-married        Adm-clerical   Not-in-family   White     Male   \n",
       "1   Married-civ-spouse     Exec-managerial         Husband   White     Male   \n",
       "2             Divorced   Handlers-cleaners   Not-in-family   White     Male   \n",
       "3   Married-civ-spouse   Handlers-cleaners         Husband   Black     Male   \n",
       "4   Married-civ-spouse      Prof-specialty            Wife   Black   Female   \n",
       "\n",
       "   cap-gain  cap-loss  hours-per-week  native-country comparison  \n",
       "0    2174.0       0.0              40   United-States        <=N  \n",
       "1       0.0       0.0              13   United-States        <=N  \n",
       "2       0.0       0.0              40   United-States        <=N  \n",
       "3       0.0       0.0              40   United-States        <=N  \n",
       "4       0.0       0.0              40            Cuba        <=N  "
      ]
     },
     "execution_count": 54,
     "metadata": {},
     "output_type": "execute_result"
    }
   ],
   "source": [
    "train_data.head()"
   ]
  },
  {
   "cell_type": "code",
   "execution_count": 55,
   "metadata": {},
   "outputs": [
    {
     "data": {
      "text/plain": [
       "age                  int32\n",
       "workclass         category\n",
       "final_weight       float64\n",
       "education         category\n",
       "education-num        int32\n",
       "marital-status    category\n",
       "occupation        category\n",
       "relationship      category\n",
       "race              category\n",
       "sex               category\n",
       "cap-gain           float64\n",
       "cap-loss           float64\n",
       "hours-per-week       int32\n",
       "native-country    category\n",
       "comparison        category\n",
       "dtype: object"
      ]
     },
     "execution_count": 55,
     "metadata": {},
     "output_type": "execute_result"
    }
   ],
   "source": [
    "train_data.dtypes"
   ]
  },
  {
   "cell_type": "code",
   "execution_count": 56,
   "metadata": {},
   "outputs": [
    {
     "name": "stdout",
     "output_type": "stream",
     "text": [
      "Column name:  age\n",
      "[39 50 38 53 28 37 49 52 31 42 30 23 32 40 34 25 43 54 35 59 56 19 20 45\n",
      " 22 48 21 24 57 44 41 29 18 47 46 36 79 27 67 33 76 17 55 61 70 64 71 68\n",
      " 66 51 58 26 60 90 75 65 77 62 63 80 72 74 69 73 81 78 88 82 83 84 85 86\n",
      "  1 87]\n",
      "Column name:  workclass\n",
      "[' State-gov', ' Self-emp-not-inc', ' Private', ' Federal-gov', ' Local-gov', ' ?', ' Self-emp-inc', ' Without-pay', ' Never-worked']\n",
      "Categories (9, object): [' State-gov', ' Self-emp-not-inc', ' Private', ' Federal-gov', ..., ' ?', ' Self-emp-inc', ' Without-pay', ' Never-worked']\n",
      "Column name:  final_weight\n",
      "[ 77516.  83311. 215646. ...  34066.  84661. 257302.]\n",
      "Column name:  education\n",
      "[' Bachelors', ' HS-grad', ' 11th', ' Masters', ' 9th', ..., ' 5th-6th', ' 10th', ' 1st-4th', ' Preschool', ' 12th']\n",
      "Length: 16\n",
      "Categories (16, object): [' Bachelors', ' HS-grad', ' 11th', ' Masters', ..., ' 10th', ' 1st-4th', ' Preschool', ' 12th']\n",
      "Column name:  education-num\n",
      "[13  9  7 14  5 10 12 11  4 16 15  3  6  2  1  8]\n",
      "Column name:  marital-status\n",
      "[' Never-married', ' Married-civ-spouse', ' Divorced', ' Married-spouse-absent', ' Separated', ' Married-AF-spouse', ' Widowed']\n",
      "Categories (7, object): [' Never-married', ' Married-civ-spouse', ' Divorced', ' Married-spouse-absent', ' Separated', ' Married-AF-spouse', ' Widowed']\n",
      "Column name:  occupation\n",
      "[' Adm-clerical', ' Exec-managerial', ' Handlers-cleaners', ' Prof-specialty', ' Other-service', ..., ' Tech-support', ' ?', ' Protective-serv', ' Armed-Forces', ' Priv-house-serv']\n",
      "Length: 15\n",
      "Categories (15, object): [' Adm-clerical', ' Exec-managerial', ' Handlers-cleaners', ' Prof-specialty', ..., ' ?', ' Protective-serv', ' Armed-Forces', ' Priv-house-serv']\n",
      "Column name:  relationship\n",
      "[' Not-in-family', ' Husband', ' Wife', ' Own-child', ' Unmarried', ' Other-relative', ' Sales']\n",
      "Categories (7, object): [' Not-in-family', ' Husband', ' Wife', ' Own-child', ' Unmarried', ' Other-relative', ' Sales']\n",
      "Column name:  race\n",
      "[' White', ' Black', ' Asian-Pac-Islander', ' Amer-Indian-Eskimo', ' Other']\n",
      "Categories (5, object): [' White', ' Black', ' Asian-Pac-Islander', ' Amer-Indian-Eskimo', ' Other']\n",
      "Column name:  sex\n",
      "[' Male', ' Female', ' Other']\n",
      "Categories (3, object): [' Male', ' Female', ' Other']\n",
      "Column name:  cap-gain\n",
      "[ 2174.     0. 14084.  5178.  5013.  2407. 14344. 15024.  7688. 34095.\n",
      "  4064.  4386.  7298.  1409.  3674.  1055.  3464.  2050.  2176.   594.\n",
      " 20051.  6849.  4101.  1111.  8614.  3411.  2597. 25236.  4650.  9386.\n",
      "  2463.  3103. 10605.  2964.  3325.  2580.  3471.  4865. 99999.  6514.\n",
      "  1471.  2329.  2105.  2885. 25124. 10520.  2202.  2961. 27828.  6767.\n",
      "  2228.  1506. 13550.  2635.  5556.  4787.  3781.  3137.  3818.  3942.\n",
      "   914.   401.  2829.  2977.  4934.  2062.  2354.  5455. 15020.  1424.\n",
      "  3273. 22040.  4416.  3908. 10566.   991.  4931.  1086.  7430.  6497.\n",
      "   114.  7896.  2346.  3418.  3432.  2907.  1151.  2414.  2290. 15831.\n",
      " 41310.  4508.  2538.  3456.  6418.  1848.  3887.  5721.  9562.  1455.\n",
      "  2036.  1831. 11678.  2936.  2993.  7443.  6360.  1797.  1173.  4687.\n",
      "  6723.  2009.  6097.  2653.  1639. 18481.  7978.   100.  2387.  5060.]\n",
      "Column name:  cap-loss\n",
      "[   0. 2042. 1408. 1902. 1573. 1887. 1719. 1762. 1564. 2179. 1816. 1980.\n",
      " 1977. 1876. 1340. 2206. 1741. 1485. 2339. 2415. 1380. 1721. 2051. 2377.\n",
      " 1669. 2352. 1672.  653. 2392. 1504. 2001. 1590. 1651. 1628. 1848. 1740.\n",
      " 2002. 1579. 2258. 1602.  419. 2547. 2174. 2205. 1726. 2444. 1138. 2238.\n",
      "  625.  213. 1539.  880. 1668. 1092. 1594. 3004. 2231. 1844.  810. 2824.\n",
      " 2559. 2057. 1974.  974. 2149. 1825. 1735. 1258. 2129. 2603. 2282.  323.\n",
      " 4356. 2246. 1617. 1648. 2489. 3770. 1755. 3683. 2267. 2080. 2457.  155.\n",
      " 3900. 2201. 1944. 2467. 2163. 2754. -110. 2472. 1411.]\n",
      "Column name:  hours-per-week\n",
      "[         40          13          16          45          50          80\n",
      "          30          35          60          20          52          44\n",
      "          15          25          38          43          55          48\n",
      "          58          32          70           2          22          56\n",
      "          41          28          36          24          46          42\n",
      "          12          65           1          10          34          75\n",
      "          98          33          54           8           6          64\n",
      "          19          18          72           5           9          47\n",
      "          37          21          26          14           4          59\n",
      "           7          99          53          39          62          57\n",
      "          78          90          66          11          49          84\n",
      "           3          17          68          27          85          31\n",
      "          51          77          63          23          87          88\n",
      "          73          89          97          94          29          96\n",
      "          67          82          86          91          81          76\n",
      "          92          61          74          95 -1911779654]\n",
      "Column name:  native-country\n",
      "[' United-States', ' Cuba', ' Jamaica', ' India', ' ?', ..., ' Vietnam', ' Hong', ' Ireland', ' Hungary', ' Holand-Netherlands']\n",
      "Length: 42\n",
      "Categories (42, object): [' United-States', ' Cuba', ' Jamaica', ' India', ..., ' Hong', ' Ireland', ' Hungary', ' Holand-Netherlands']\n",
      "Column name:  comparison\n",
      "[' <=N', ' >N']\n",
      "Categories (2, object): [' <=N', ' >N']\n"
     ]
    }
   ],
   "source": [
    "for col in train_data.columns:\n",
    "    print('Column name: ', col)\n",
    "    print(train_data[col].unique())"
   ]
  },
  {
   "cell_type": "code",
   "execution_count": 57,
   "metadata": {},
   "outputs": [
    {
     "data": {
      "text/plain": [
       "(32571, 15)"
      ]
     },
     "execution_count": 57,
     "metadata": {},
     "output_type": "execute_result"
    }
   ],
   "source": [
    "train_data.shape"
   ]
  },
  {
   "cell_type": "markdown",
   "metadata": {},
   "source": [
    "Так как данная задача сводится к бинарной классификации, то заменим в исходе категориальные признаки следующим образом:\n",
    "\n",
    "меньше N -> 0\n",
    "\n",
    "больше N -> 1"
   ]
  },
  {
   "cell_type": "code",
   "execution_count": 58,
   "metadata": {},
   "outputs": [],
   "source": [
    "new_train_data = train_data.copy()\n",
    "le = LabelEncoder()\n",
    "new_train_data['comparison'] = le.fit_transform(new_train_data['comparison'])"
   ]
  },
  {
   "cell_type": "code",
   "execution_count": 59,
   "metadata": {},
   "outputs": [
    {
     "data": {
      "text/html": [
       "<div>\n",
       "<style scoped>\n",
       "    .dataframe tbody tr th:only-of-type {\n",
       "        vertical-align: middle;\n",
       "    }\n",
       "\n",
       "    .dataframe tbody tr th {\n",
       "        vertical-align: top;\n",
       "    }\n",
       "\n",
       "    .dataframe thead th {\n",
       "        text-align: right;\n",
       "    }\n",
       "</style>\n",
       "<table border=\"1\" class=\"dataframe\">\n",
       "  <thead>\n",
       "    <tr style=\"text-align: right;\">\n",
       "      <th></th>\n",
       "      <th>age</th>\n",
       "      <th>workclass</th>\n",
       "      <th>final_weight</th>\n",
       "      <th>education</th>\n",
       "      <th>education-num</th>\n",
       "      <th>marital-status</th>\n",
       "      <th>occupation</th>\n",
       "      <th>relationship</th>\n",
       "      <th>race</th>\n",
       "      <th>sex</th>\n",
       "      <th>cap-gain</th>\n",
       "      <th>cap-loss</th>\n",
       "      <th>hours-per-week</th>\n",
       "      <th>native-country</th>\n",
       "      <th>comparison</th>\n",
       "    </tr>\n",
       "  </thead>\n",
       "  <tbody>\n",
       "    <tr>\n",
       "      <th>0</th>\n",
       "      <td>39</td>\n",
       "      <td>State-gov</td>\n",
       "      <td>77516.0</td>\n",
       "      <td>Bachelors</td>\n",
       "      <td>13</td>\n",
       "      <td>Never-married</td>\n",
       "      <td>Adm-clerical</td>\n",
       "      <td>Not-in-family</td>\n",
       "      <td>White</td>\n",
       "      <td>Male</td>\n",
       "      <td>2174.0</td>\n",
       "      <td>0.0</td>\n",
       "      <td>40</td>\n",
       "      <td>United-States</td>\n",
       "      <td>0</td>\n",
       "    </tr>\n",
       "    <tr>\n",
       "      <th>1</th>\n",
       "      <td>50</td>\n",
       "      <td>Self-emp-not-inc</td>\n",
       "      <td>83311.0</td>\n",
       "      <td>Bachelors</td>\n",
       "      <td>13</td>\n",
       "      <td>Married-civ-spouse</td>\n",
       "      <td>Exec-managerial</td>\n",
       "      <td>Husband</td>\n",
       "      <td>White</td>\n",
       "      <td>Male</td>\n",
       "      <td>0.0</td>\n",
       "      <td>0.0</td>\n",
       "      <td>13</td>\n",
       "      <td>United-States</td>\n",
       "      <td>0</td>\n",
       "    </tr>\n",
       "    <tr>\n",
       "      <th>2</th>\n",
       "      <td>38</td>\n",
       "      <td>Private</td>\n",
       "      <td>215646.0</td>\n",
       "      <td>HS-grad</td>\n",
       "      <td>9</td>\n",
       "      <td>Divorced</td>\n",
       "      <td>Handlers-cleaners</td>\n",
       "      <td>Not-in-family</td>\n",
       "      <td>White</td>\n",
       "      <td>Male</td>\n",
       "      <td>0.0</td>\n",
       "      <td>0.0</td>\n",
       "      <td>40</td>\n",
       "      <td>United-States</td>\n",
       "      <td>0</td>\n",
       "    </tr>\n",
       "    <tr>\n",
       "      <th>3</th>\n",
       "      <td>53</td>\n",
       "      <td>Private</td>\n",
       "      <td>234721.0</td>\n",
       "      <td>11th</td>\n",
       "      <td>7</td>\n",
       "      <td>Married-civ-spouse</td>\n",
       "      <td>Handlers-cleaners</td>\n",
       "      <td>Husband</td>\n",
       "      <td>Black</td>\n",
       "      <td>Male</td>\n",
       "      <td>0.0</td>\n",
       "      <td>0.0</td>\n",
       "      <td>40</td>\n",
       "      <td>United-States</td>\n",
       "      <td>0</td>\n",
       "    </tr>\n",
       "    <tr>\n",
       "      <th>4</th>\n",
       "      <td>28</td>\n",
       "      <td>Private</td>\n",
       "      <td>338409.0</td>\n",
       "      <td>Bachelors</td>\n",
       "      <td>13</td>\n",
       "      <td>Married-civ-spouse</td>\n",
       "      <td>Prof-specialty</td>\n",
       "      <td>Wife</td>\n",
       "      <td>Black</td>\n",
       "      <td>Female</td>\n",
       "      <td>0.0</td>\n",
       "      <td>0.0</td>\n",
       "      <td>40</td>\n",
       "      <td>Cuba</td>\n",
       "      <td>0</td>\n",
       "    </tr>\n",
       "  </tbody>\n",
       "</table>\n",
       "</div>"
      ],
      "text/plain": [
       "   age          workclass  final_weight   education  education-num  \\\n",
       "0   39          State-gov       77516.0   Bachelors             13   \n",
       "1   50   Self-emp-not-inc       83311.0   Bachelors             13   \n",
       "2   38            Private      215646.0     HS-grad              9   \n",
       "3   53            Private      234721.0        11th              7   \n",
       "4   28            Private      338409.0   Bachelors             13   \n",
       "\n",
       "        marital-status          occupation    relationship    race      sex  \\\n",
       "0        Never-married        Adm-clerical   Not-in-family   White     Male   \n",
       "1   Married-civ-spouse     Exec-managerial         Husband   White     Male   \n",
       "2             Divorced   Handlers-cleaners   Not-in-family   White     Male   \n",
       "3   Married-civ-spouse   Handlers-cleaners         Husband   Black     Male   \n",
       "4   Married-civ-spouse      Prof-specialty            Wife   Black   Female   \n",
       "\n",
       "   cap-gain  cap-loss  hours-per-week  native-country  comparison  \n",
       "0    2174.0       0.0              40   United-States           0  \n",
       "1       0.0       0.0              13   United-States           0  \n",
       "2       0.0       0.0              40   United-States           0  \n",
       "3       0.0       0.0              40   United-States           0  \n",
       "4       0.0       0.0              40            Cuba           0  "
      ]
     },
     "execution_count": 59,
     "metadata": {},
     "output_type": "execute_result"
    }
   ],
   "source": [
    "new_train_data.head()"
   ]
  },
  {
   "cell_type": "code",
   "execution_count": 60,
   "metadata": {},
   "outputs": [
    {
     "data": {
      "text/plain": [
       "age               0\n",
       "workclass         0\n",
       "final_weight      0\n",
       "education         0\n",
       "education-num     0\n",
       "marital-status    0\n",
       "occupation        0\n",
       "relationship      0\n",
       "race              0\n",
       "sex               0\n",
       "cap-gain          0\n",
       "cap-loss          0\n",
       "hours-per-week    0\n",
       "native-country    0\n",
       "comparison        0\n",
       "dtype: int64"
      ]
     },
     "execution_count": 60,
     "metadata": {},
     "output_type": "execute_result"
    }
   ],
   "source": [
    "train_data.isnull().sum()"
   ]
  },
  {
   "cell_type": "code",
   "execution_count": 61,
   "metadata": {},
   "outputs": [
    {
     "data": {
      "text/plain": [
       "age                  74\n",
       "workclass             9\n",
       "final_weight      21649\n",
       "education            16\n",
       "education-num        16\n",
       "marital-status        7\n",
       "occupation           15\n",
       "relationship          7\n",
       "race                  5\n",
       "sex                   3\n",
       "cap-gain            120\n",
       "cap-loss             93\n",
       "hours-per-week       95\n",
       "native-country       42\n",
       "comparison            2\n",
       "dtype: int64"
      ]
     },
     "execution_count": 61,
     "metadata": {},
     "output_type": "execute_result"
    }
   ],
   "source": [
    "train_data.nunique()"
   ]
  },
  {
   "cell_type": "markdown",
   "metadata": {},
   "source": [
    "Как можно видеть в данном тренировочном наборе отсутствуют строки, где какой-либо признак имел значение NaN"
   ]
  },
  {
   "cell_type": "markdown",
   "metadata": {},
   "source": [
    "Рассмотрим, как распределились записи в зависимости от класса >N или <=N"
   ]
  },
  {
   "cell_type": "code",
   "execution_count": 66,
   "metadata": {},
   "outputs": [
    {
     "data": {
      "image/png": "[encoded data removed]",
      "text/plain": [
       "<Figure size 432x288 with 1 Axes>"
      ]
     },
     "metadata": {},
     "output_type": "display_data"
    }
   ],
   "source": [
    "smaller, bigger = new_train_data['comparison'].value_counts()\n",
    "\n",
    "plt.pie(x=[smaller, bigger], labels=['<=N', '>N'], autopct='%1.3f%%', radius=2)\n",
    "plt.show()"
   ]
  },
  {
   "cell_type": "markdown",
   "metadata": {},
   "source": [
    "Как можно видеть на круговой диаграмме тренировочный набор данных имеет сильное смещение в пользу класса <=N"
   ]
  },
  {
   "cell_type": "code",
   "execution_count": null,
   "metadata": {},
   "outputs": [],
   "source": []
  }
 ],
 "metadata": {
  "kernelspec": {
   "display_name": "Python 3",
   "language": "python",
   "name": "python3"
  },
  "language_info": {
   "codemirror_mode": {
    "name": "ipython",
    "version": 3
   },
   "file_extension": ".py",
   "mimetype": "text/x-python",
   "name": "python",
   "nbconvert_exporter": "python",
   "pygments_lexer": "ipython3",
   "version": "3.6.12"
  }
 },
 "nbformat": 4,
 "nbformat_minor": 4
}
